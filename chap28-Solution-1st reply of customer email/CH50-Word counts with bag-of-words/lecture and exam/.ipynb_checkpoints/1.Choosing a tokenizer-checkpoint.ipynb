{
 "cells": [
  {
   "cell_type": "markdown",
   "metadata": {},
   "source": [
    "# 練習\n",
    "## Choosing a tokenizer\n",
    "Given the following string, which of the below patterns is the best tokenizer? If possible, you want to retain sentence punctuation as separate tokens, but have '#1' remain a single token.\n",
    "\n",
    "#### my_string = \"SOLDIER #1: Found them? In Mercea? The coconut's tropical!\"\n",
    "\n",
    "The string is available in your workspace as my_string, and the patterns have been pre-loaded as pattern1, pattern2, pattern3, and pattern4, respectively.\n",
    "\n",
    "Additionally, regexp_tokenize has been imported from nltk.tokenize. You can use regexp_tokenize(string, pattern) with my_string and one of the patterns as arguments to experiment for yourself and see which is the best tokenizer."
   ]
  },
  {
   "cell_type": "code",
   "execution_count": null,
   "metadata": {},
   "outputs": [],
   "source": [
    "Possible Answers\n",
    "( ) r\"(\\w+|\\?|!)\"\n",
    "( ) r\"(\\w+|#\\d|\\?|!)\"\n",
    "( ) r\"(#\\d\\w+\\?!)\"\n",
    "( ) r\"\\s+\""
   ]
  },
  {
   "cell_type": "code",
   "execution_count": null,
   "metadata": {},
   "outputs": [],
   "source": [
    "# 預計答案\n",
    "# ['SOLDIER',\n",
    "#  '#1',\n",
    "#  'Found',\n",
    "#  'them',\n",
    "#  '?',\n",
    "#  'In',\n",
    "#  'Mercea',\n",
    "#  '?',\n",
    "#  'The',\n",
    "#  'coconut',\n",
    "#  's',\n",
    "#  'tropical',\n",
    "#  '!']"
   ]
  }
 ],
 "metadata": {
  "kernelspec": {
   "display_name": "Python 3",
   "language": "python",
   "name": "python3"
  },
  "language_info": {
   "codemirror_mode": {
    "name": "ipython",
    "version": 3
   },
   "file_extension": ".py",
   "mimetype": "text/x-python",
   "name": "python",
   "nbconvert_exporter": "python",
   "pygments_lexer": "ipython3",
   "version": "3.6.8"
  }
 },
 "nbformat": 4,
 "nbformat_minor": 2
}
