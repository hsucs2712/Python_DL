{
 "cells": [
  {
   "cell_type": "markdown",
   "metadata": {},
   "source": [
    "# 練習\n",
    "## Word tokenization with NLTK\n",
    "Here, you'll be using the first scene of Monty Python's Holy Grail, which has been pre-loaded as scene_one. Feel free to check it out in the IPython Shell!\n",
    "\n",
    "Your job in this exercise is to utilize word_tokenize and sent_tokenize from nltk.tokenize to tokenize both words and sentences from Python strings - in this case, the first scene of Monty Python's Holy Grail."
   ]
  },
  {
   "cell_type": "code",
   "execution_count": 3,
   "metadata": {},
   "outputs": [],
   "source": [
    "# 準備事項\n",
    "# Import the sent_tokenize and word_tokenize functions from nltk.tokenize.\n",
    "# Tokenize all the sentences in scene_one using the sent_tokenize() function.\n",
    "# Tokenize the fourth sentence in sentences, which you can access as sentences[3], using the word_tokenize() function.\n",
    "# Find the unique tokens in the entire scene by using word_tokenize() on scene_one and then converting it into a set using set().\n",
    "# Print the unique tokens found. This has been done for you, so hit 'Submit Answer' to see the results!\n",
    "\n",
    "scene_one = '''SCENE 1: [wind] [clop clop clop] \n",
    "KING ARTHUR: Whoa there!  [clop clop clop] \n",
    "SOLDIER #1: Halt!  Who goes there?\n",
    "ARTHUR: It is I, Arthur, son of Uther Pendragon, from the castle of Camelot.  King of the Britons, defeator of the Saxons, sovereign of all England!\n",
    "SOLDIER #1: Pull the other one!\n",
    "ARTHUR: I am, ...  and this is my trusty servant Patsy.  We have ridden the length and breadth of the land in search of knights who will join me in my court at Camelot.  I must speak with your lord and master.\n",
    "SOLDIER #1: What?  Ridden on a horse?\n",
    "ARTHUR: Yes!\n",
    "SOLDIER #1: You're using coconuts!\n",
    "ARTHUR: What?\n",
    "SOLDIER #1: You've got two empty halves of coconut and you're bangin' 'em together.\n",
    "ARTHUR: So?  We have ridden since the snows of winter covered this land, through the kingdom of Mercea, through--\n",
    "SOLDIER #1: Where'd you get the coconuts?\n",
    "ARTHUR: We found them.\n",
    "SOLDIER #1: Found them?  In Mercea?  The coconut's tropical!\n",
    "ARTHUR: What do you mean?\n",
    "SOLDIER #1: Well, this is a temperate zone.\n",
    "ARTHUR: The swallow may fly south with the sun or the house martin or the plover may seek warmer climes in winter, yet these are not strangers to our land?\n",
    "SOLDIER #1: Are you suggesting coconuts migrate?\n",
    "ARTHUR: Not at all.  They could be carried.\n",
    "SOLDIER #1: What?  A swallow carrying a coconut?\n",
    "ARTHUR: It could grip it by the husk!\n",
    "SOLDIER #1: It's not a question of where he grips it!  It's a simple question of weight ratios!  A five ounce bird could not carry a one pound coconut.\n",
    "ARTHUR: Well, it doesn't matter.  Will you go and tell your master that Arthur from the Court of Camelot is here.\n",
    "SOLDIER #1: Listen.  In order to maintain air-speed velocity, a swallow needs to beat its wings forty-three times every second, right?\n",
    "ARTHUR: Please!\n",
    "SOLDIER #1: Am I right?\n",
    "ARTHUR: I'm not interested!\n",
    "SOLDIER #2: It could be carried by an African swallow!\n",
    "SOLDIER #1: Oh, yeah, an African swallow maybe, but not a European swallow.  That's my point.\n",
    "SOLDIER #2: Oh, yeah, I agree with that.\n",
    "ARTHUR: Will you ask your master if he wants to join my court at Camelot?!\n",
    "SOLDIER #1: But then of course a-- African swallows are non-migratory.\n",
    "SOLDIER #2: Oh, yeah...\n",
    "SOLDIER #1: So they couldn't bring a coconut back anyway...  [clop clop clop] \n",
    "SOLDIER #2: Wait a minute!  Supposing two swallows carried it together?\n",
    "SOLDIER #1: No, they'd have to have it on a line.\n",
    "SOLDIER #2: Well, simple!  They'd just use a strand of creeper!\n",
    "SOLDIER #1: What, held under the dorsal guiding feathers?\n",
    "SOLDIER #2: Well, why not?'''"
   ]
  },
  {
   "cell_type": "code",
   "execution_count": 9,
   "metadata": {
    "collapsed": true
   },
   "outputs": [
    {
     "data": {
      "text/plain": [
       "['ARTHUR',\n",
       " ':',\n",
       " 'It',\n",
       " 'is',\n",
       " 'I',\n",
       " ',',\n",
       " 'Arthur',\n",
       " ',',\n",
       " 'son',\n",
       " 'of',\n",
       " 'Uther',\n",
       " 'Pendragon',\n",
       " ',',\n",
       " 'from',\n",
       " 'the',\n",
       " 'castle',\n",
       " 'of',\n",
       " 'Camelot',\n",
       " '.']"
      ]
     },
     "execution_count": 9,
     "metadata": {},
     "output_type": "execute_result"
    }
   ],
   "source": [
    "# Import necessary modules\n",
    "from nltk.tokenize import sent_tokenize  \n",
    "from nltk.tokenize import word_tokenize\n",
    "\n",
    "# Split scene_one into sentences: sentences\n",
    "sentences = sent_tokenize(scene_one)\n",
    "word_tokenize(sentences[3])"
   ]
  },
  {
   "cell_type": "code",
   "execution_count": null,
   "metadata": {},
   "outputs": [],
   "source": []
  },
  {
   "cell_type": "code",
   "execution_count": 13,
   "metadata": {},
   "outputs": [
    {
     "name": "stdout",
     "output_type": "stream",
     "text": [
      "{'then', 'but', 'wings', 'order', \"n't\", 'using', 'you', 'of', 'with', 'climes', 'feathers', 'plover', '2', 'master', 'zone', 'So', 'use', ':', 'I', 'Pull', 'coconuts', 'carried', 'right', 'temperate', '!', 'the', 'Camelot', 'under', 'weight', 'tell', 'defeator', 'bird', \"'m\", 'interested', 'European', 'Court', 'be', 'sovereign', 'must', 'You', 'in', 'Supposing', 'KING', 'if', 'seek', 'have', 'warmer', 'ask', 'kingdom', 'Britons', 'anyway', 'suggesting', 'from', 'them', 'No', 'ridden', 'snows', 'just', 'Please', 'Listen', 'goes', 'What', 'non-migratory', 'SCENE', 'and', 'guiding', 'lord', '--', 'Where', 'ratios', ']', 'Am', 'are', 'pound', 'mean', 'But', 'at', 'course', 'Wait', 'here', 'five', 'Arthur', 'winter', 'They', 'held', 'covered', 'do', 'Mercea', 'creeper', 'why', \"'re\", 'Found', 'every', 'fly', 'coconut', \"'ve\", 'halves', 'Are', \"'d\", 'through', 'go', 'its', 'forty-three', 'wants', 'join', 'son', 'where', 'velocity', 'migrate', 'all', 'sun', 'Not', 'beat', 'line', 'agree', 'by', 'simple', 'bring', 'back', \"'em\", 'me', 'bangin', 'house', 'Uther', 'Whoa', 'ounce', 'an', 'carry', 'times', 'question', '[', 'wind', 'court', 'carrying', 'is', 'that', 'husk', 'south', 'African', 'maybe', 'who', 'clop', 'tropical', 'England', 'search', 'A', 'it', 'together', 'servant', 'two', 'Who', 'trusty', 'other', 'castle', ',', 'will', 'land', 'grips', 'Will', 'Saxons', 'second', 'Oh', 'Patsy', 'my', 'swallow', 'strand', 'not', 'Halt', 'length', 'am', 'It', 'your', 'Ridden', 'In', 'there', '...', 'grip', 'speak', 'found', 'point', 'air-speed', 'since', '1', 'yeah', 'one', 'these', 'ARTHUR', 'minute', 'dorsal', 'King', 'martin', 'maintain', 'a', 'swallows', \"'s\", 'needs', 'That', 'yet', 'knights', 'matter', 'The', 'they', 'SOLDIER', 'on', 'horse', \"'\", '.', 'strangers', 'our', 'may', 'empty', '?', 'We', 'this', '#', 'got', 'does', 'could', 'Well', 'Yes', 'to', 'or', 'get', 'Pendragon', 'he', 'breadth'}\n"
     ]
    }
   ],
   "source": [
    "# Import necessary modules\n",
    "from nltk.tokenize import sent_tokenize  \n",
    "from nltk.tokenize import word_tokenize\n",
    "\n",
    "# Split scene_one into sentences: sentences\n",
    "sentences = sent_tokenize(scene_one)\n",
    "\n",
    "# Use word_tokenize to tokenize the fourth sentence: tokenized_sent\n",
    "tokenized_sent = word_tokenize(sentences[3])\n",
    "\n",
    "# Make a set of unique tokens in the entire scene: unique_tokens\n",
    "unique_tokens = set(word_tokenize(scene_one))\n",
    "\n",
    "# Print the unique tokens result\n",
    "print(unique_tokens)\n"
   ]
  },
  {
   "cell_type": "code",
   "execution_count": 1,
   "metadata": {},
   "outputs": [],
   "source": [
    "# 預計結果\n",
    "\n",
    "# {'What', 'winter', 'where', 'ARTHUR', 'is', 'ridden', 'search', 'ratios', 'martin', 'our', 'kingdom', 'question', 'who', 'Mercea', 'that', 'does', 'sun', \"'m\", 'do', 'feathers', 'empty', 'Well', 'every', 'plover', 'climes', 'have', 'In', 'wings', 'tell', 'are', 'bring', 'Where', 'Saxons', 'clop', 'You', 'But', 'defeator', '!', 'Camelot', 'beat', 'velocity', 'under', 'England', 'my', 'dorsal', \"'s\", 'there', 'Pendragon', 'air-speed', 'then', 'not', 'it', 'all', 'Pull', 'to', 'servant', 'Wait', 'Found', 'It', 'yet', '...', 'swallow', 'using', '1', 'tropical', 'sovereign', 'them', 'simple', 'just', \"'ve\", 'maybe', 'use', 'matter', 'lord', 'fly', 'these', 'Patsy', 'Yes', 'south', 'am', 'ounce', 'That', 'Uther', 'Will', 'second', 'at', 'court', \"'\", 'non-migratory', 'get', 'grips', 'master', 'SCENE', \"'re\", 'of', 'husk', 'goes', 'seek', 'African', 'right', 'five', 'Am', 'will', 'course', 'temperate', 'two', 'here', 'join', 'horse', 'yeah', 'breadth', 'your', 'pound', 'they', 'or', 'mean', 'line', 'one', 'KING', 'I', 'snows', 'by', 'and', 'wind', 'We', 'coconut', 'suggesting', 'Arthur', 'Who', 'found', 'zone', 'Not', 'order', ']', 'but', 'he', 'agree', 'Supposing', 'in', 'castle', '--', 'carrying', '[', 'times', 'Are', 'held', 'King', 'could', 'knights', 'back', 'covered', 'why', 'Britons', 'strangers', 'length', ',', 'may', 'warmer', 'be', 'point', 'migrate', 'got', 'Court', 'other', '.', 'house', 'me', \"'d\", 'So', 'ask', 'bangin', 'weight', 'son', 'anyway', 'land', 'swallows', 'Oh', 'wants', '2', 'coconuts', 'A', 'since', 'on', 'maintain', 'Whoa', 'guiding', 'Ridden', 'forty-three', 'halves', 'Halt', 'carried', 'Please', 'interested', 'strand', 'if', 'the', 'carry', ':', \"'em\", 'a', 'go', 'this', 'trusty', 'with', '?', 'through', 'minute', 'grip', 'needs', 'together', 'from', 'European', 'must', 'you', 'bird', 'SOLDIER', 'No', '#', 'Listen', 'an', 'creeper', 'speak', \"n't\", 'The', 'its', 'They'}\n"
   ]
  },
  {
   "cell_type": "code",
   "execution_count": 30,
   "metadata": {},
   "outputs": [
    {
     "data": {
      "image/png": "[encoded data removed]",
      "text/plain": [
       "<Figure size 432x288 with 1 Axes>"
      ]
     },
     "metadata": {
      "needs_background": "light"
     },
     "output_type": "display_data"
    }
   ],
   "source": [
    "import matplotlib.pyplot as plt\n",
    "import pandas as pd\n",
    "words = word_tokenize(scene_one.replace(':',''))\n",
    "words_stat = pd.Series(words).value_counts()[:10]\n",
    "plt.bar(words_stat.index, words_stat.values)\n",
    "plt.show()"
   ]
  },
  {
   "cell_type": "code",
   "execution_count": 14,
   "metadata": {},
   "outputs": [
    {
     "data": {
      "text/plain": [
       "{1, 2, 3, 4, 5}"
      ]
     },
     "execution_count": 14,
     "metadata": {},
     "output_type": "execute_result"
    }
   ],
   "source": [
    "data = [1, 1, 2, 3, 3, 4, 4, 5]\n",
    "set(data)"
   ]
  }
 ],
 "metadata": {
  "kernelspec": {
   "display_name": "Python 3",
   "language": "python",
   "name": "python3"
  },
  "language_info": {
   "codemirror_mode": {
    "name": "ipython",
    "version": 3
   },
   "file_extension": ".py",
   "mimetype": "text/x-python",
   "name": "python",
   "nbconvert_exporter": "python",
   "pygments_lexer": "ipython3",
   "version": "3.7.4"
  }
 },
 "nbformat": 4,
 "nbformat_minor": 2
}
