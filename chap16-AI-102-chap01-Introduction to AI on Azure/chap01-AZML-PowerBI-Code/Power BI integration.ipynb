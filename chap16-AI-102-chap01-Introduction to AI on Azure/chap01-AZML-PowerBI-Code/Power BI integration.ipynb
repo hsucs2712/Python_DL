{
  "cells": [
    {
      "cell_type": "code",
      "source": [
        "import numpy as np\r\n",
        "\r\n",
        "np.sin(3)"
      ],
      "outputs": [
        {
          "output_type": "execute_result",
          "execution_count": 1,
          "data": {
            "text/plain": "0.1411200080598672"
          },
          "metadata": {}
        }
      ],
      "execution_count": 1,
      "metadata": {
        "gather": {
          "logged": 1664076372747
        }
      }
    },
    {
      "cell_type": "code",
      "source": [
        "from azureml.opendatasets import Diabetes\r\n",
        "\r\n",
        "diabetes = Diabetes.get_tabular_dataset()\r\n",
        "X = diabetes.drop_columns(\"Y\")\r\n",
        "y = diabetes.keep_columns(\"Y\")\r\n",
        "X_df = X.to_pandas_dataframe()\r\n",
        "y_df = y.to_pandas_dataframe()\r\n",
        "X_df.info()"
      ],
      "outputs": [
        {
          "output_type": "stream",
          "name": "stdout",
          "text": "<class 'pandas.core.frame.DataFrame'>\nRangeIndex: 442 entries, 0 to 441\nData columns (total 10 columns):\n #   Column  Non-Null Count  Dtype  \n---  ------  --------------  -----  \n 0   AGE     442 non-null    int64  \n 1   SEX     442 non-null    int64  \n 2   BMI     442 non-null    float64\n 3   BP      442 non-null    float64\n 4   S1      442 non-null    int64  \n 5   S2      442 non-null    float64\n 6   S3      442 non-null    float64\n 7   S4      442 non-null    float64\n 8   S5      442 non-null    float64\n 9   S6      442 non-null    int64  \ndtypes: float64(6), int64(4)\nmemory usage: 34.7 KB\n"
        }
      ],
      "execution_count": 2,
      "metadata": {
        "jupyter": {
          "source_hidden": false,
          "outputs_hidden": false
        },
        "nteract": {
          "transient": {
            "deleting": false
          }
        },
        "gather": {
          "logged": 1664076448604
        }
      }
    },
    {
      "cell_type": "code",
      "source": [
        "# 糖尿病指數 並非是糖尿病 vs 正常(分類)\r\n",
        "X_df[:3], y_df[:3]"
      ],
      "outputs": [
        {
          "output_type": "execute_result",
          "execution_count": 5,
          "data": {
            "text/plain": "(   AGE  SEX   BMI     BP   S1     S2    S3   S4      S5  S6\n 0   59    2  32.1  101.0  157   93.2  38.0  4.0  4.8598  87\n 1   48    1  21.6   87.0  183  103.2  70.0  3.0  3.8918  69\n 2   72    2  30.5   93.0  156   93.6  41.0  4.0  4.6728  85,\n      Y\n 0  151\n 1   75\n 2  141)"
          },
          "metadata": {}
        }
      ],
      "execution_count": 5,
      "metadata": {
        "jupyter": {
          "source_hidden": false,
          "outputs_hidden": false
        },
        "nteract": {
          "transient": {
            "deleting": false
          }
        },
        "gather": {
          "logged": 1664076564581
        }
      }
    },
    {
      "cell_type": "code",
      "source": [
        "import joblib\r\n",
        "from sklearn.linear_model import Ridge\r\n",
        "\r\n",
        "model = Ridge().fit(X_df,y_df)\r\n",
        "joblib.dump(model, 'sklearn_regression_model.pkl') # 輸出到哪裡?!"
      ],
      "outputs": [
        {
          "output_type": "execute_result",
          "execution_count": 6,
          "data": {
            "text/plain": "['sklearn_regression_model.pkl']"
          },
          "metadata": {}
        }
      ],
      "execution_count": 6,
      "metadata": {
        "jupyter": {
          "source_hidden": false,
          "outputs_hidden": false
        },
        "nteract": {
          "transient": {
            "deleting": false
          }
        },
        "gather": {
          "logged": 1664076611036
        }
      }
    },
    {
      "cell_type": "code",
      "source": [
        "# 將上述資料進行註冊\r\n",
        "import sklearn\r\n",
        "\r\n",
        "from azureml.core import Workspace\r\n",
        "from azureml.core import Model\r\n",
        "from azureml.core.resource_configuration import ResourceConfiguration\r\n",
        "\r\n",
        "ws = Workspace.from_config()\r\n",
        "\r\n",
        "model = Model.register(workspace=ws,\r\n",
        "                       model_name='my-sklearn-model',                # Name of the registered model in your workspace.\r\n",
        "                       model_path='./sklearn_regression_model.pkl',  # Local file to upload and register as a model.\r\n",
        "                       model_framework=Model.Framework.SCIKITLEARN,  # Framework used to create the model.\r\n",
        "                       model_framework_version=sklearn.__version__,  # Version of scikit-learn used to create the model.\r\n",
        "                       sample_input_dataset=X,\r\n",
        "                       sample_output_dataset=y,\r\n",
        "                       resource_configuration=ResourceConfiguration(cpu=2, memory_in_gb=4),\r\n",
        "                       description='Ridge regression model to predict diabetes progression.',\r\n",
        "                       tags={'area': 'diabetes', 'type': 'regression'})\r\n",
        "\r\n",
        "print('Name:', model.name)\r\n",
        "print('Version:', model.version)"
      ],
      "outputs": [
        {
          "output_type": "stream",
          "name": "stdout",
          "text": "Registering model my-sklearn-model\nName: my-sklearn-model\nVersion: 1\n"
        }
      ],
      "execution_count": 7,
      "metadata": {
        "jupyter": {
          "source_hidden": false,
          "outputs_hidden": false
        },
        "nteract": {
          "transient": {
            "deleting": false
          }
        },
        "gather": {
          "logged": 1664076873893
        }
      }
    },
    {
      "cell_type": "code",
      "source": [
        "%%writefile score.py\r\n",
        "\r\n",
        "import json\r\n",
        "import pickle\r\n",
        "import numpy as np\r\n",
        "import pandas as pd\r\n",
        "import os\r\n",
        "import joblib\r\n",
        "from azureml.core.model import Model\r\n",
        "\r\n",
        "from inference_schema.schema_decorators import input_schema, output_schema\r\n",
        "from inference_schema.parameter_types.numpy_parameter_type import NumpyParameterType\r\n",
        "from inference_schema.parameter_types.pandas_parameter_type import PandasParameterType\r\n",
        "\r\n",
        "\r\n",
        "def init():\r\n",
        "    global model\r\n",
        "    # Replace filename if needed.\r\n",
        "    path = os.getenv('AZUREML_MODEL_DIR') \r\n",
        "    model_path = os.path.join(path, 'sklearn_regression_model.pkl')\r\n",
        "    # Deserialize the model file back into a sklearn model.\r\n",
        "    model = joblib.load(model_path)\r\n",
        "\r\n",
        "\r\n",
        "input_sample = pd.DataFrame(data=[{\r\n",
        "    \"AGE\": 5,\r\n",
        "    \"SEX\": 2,\r\n",
        "    \"BMI\": 3.1,\r\n",
        "    \"BP\": 3.1,\r\n",
        "    \"S1\": 3.1,\r\n",
        "    \"S2\": 3.1,\r\n",
        "    \"S3\": 3.1,\r\n",
        "    \"S4\": 3.1,\r\n",
        "    \"S5\": 3.1,\r\n",
        "    \"S6\": 3.1\r\n",
        "}])\r\n",
        "\r\n",
        "# This is an integer type sample. Use the data type that reflects the expected result.\r\n",
        "output_sample = np.array([0])\r\n",
        "\r\n",
        "# To indicate that we support a variable length of data input,\r\n",
        "# set enforce_shape=False\r\n",
        "@input_schema('data', PandasParameterType(input_sample))\r\n",
        "@output_schema(NumpyParameterType(output_sample))\r\n",
        "def run(data):\r\n",
        "    try:\r\n",
        "        print(\"input_data....\")\r\n",
        "        print(data.columns)\r\n",
        "        print(type(data))\r\n",
        "        result = model.predict(data)\r\n",
        "        print(\"result.....\")\r\n",
        "        print(result)\r\n",
        "    # You can return any data type, as long as it can be serialized by JSON.\r\n",
        "        return result.tolist()\r\n",
        "    except Exception as e:\r\n",
        "        error = str(e)\r\n",
        "        return error"
      ],
      "outputs": [
        {
          "output_type": "stream",
          "name": "stdout",
          "text": "Writing score.py\n"
        }
      ],
      "execution_count": 8,
      "metadata": {
        "jupyter": {
          "source_hidden": false,
          "outputs_hidden": false
        },
        "nteract": {
          "transient": {
            "deleting": false
          }
        }
      }
    },
    {
      "cell_type": "code",
      "source": [
        "#機器上面py conda 虛擬環境\r\n",
        "from azureml.core.model import InferenceConfig\r\n",
        "from azureml.core import Environment\r\n",
        "from azureml.core.conda_dependencies import CondaDependencies\r\n",
        "\r\n",
        "environment = Environment('my-sklearn-environment')\r\n",
        "environment.python.conda_dependencies = CondaDependencies.create(pip_packages=[\r\n",
        "    'azureml-defaults',\r\n",
        "    'inference-schema[numpy-support]',\r\n",
        "    'joblib',\r\n",
        "    'numpy',\r\n",
        "    'pandas',\r\n",
        "    'scikit-learn=={}'.format(sklearn.__version__)\r\n",
        "])\r\n",
        "\r\n",
        "inference_config = InferenceConfig(entry_script='./score.py',environment=environment)"
      ],
      "outputs": [],
      "execution_count": 9,
      "metadata": {
        "jupyter": {
          "source_hidden": false,
          "outputs_hidden": false
        },
        "nteract": {
          "transient": {
            "deleting": false
          }
        },
        "gather": {
          "logged": 1664077192552
        }
      }
    },
    {
      "cell_type": "code",
      "source": [
        "service_name = 'my-diabetes-model'\r\n",
        "\r\n",
        "service = Model.deploy(ws, service_name, [model], inference_config, overwrite=True)\r\n",
        "service.wait_for_deployment(show_output=True)"
      ],
      "outputs": [
        {
          "output_type": "stream",
          "name": "stdout",
          "text": "Tips: You can try get_logs(): https://aka.ms/debugimage#dockerlog or local deployment: https://aka.ms/debugimage#debug-locally to debug if deployment takes longer than 10 minutes.\nRunning\n2022-09-25 03:41:38+00:00 Creating Container Registry if not exists..\n2022-09-25 03:51:39+00:00 Registering the environment.\n2022-09-25 03:51:41+00:00 Building image..\n2022-09-25 04:01:56+00:00 Generating deployment configuration.\n2022-09-25 04:01:58+00:00 Submitting deployment to compute..\n2022-09-25 04:02:05+00:00 Checking the status of deployment my-diabetes-model..\n2022-09-25 04:04:29+00:00 Checking the status of inference endpoint my-diabetes-model.\nSucceeded\nACI service creation operation finished, operation \"Succeeded\"\n"
        }
      ],
      "execution_count": 10,
      "metadata": {
        "jupyter": {
          "source_hidden": false,
          "outputs_hidden": false
        },
        "nteract": {
          "transient": {
            "deleting": false
          }
        },
        "gather": {
          "logged": 1664078680951
        }
      }
    },
    {
      "cell_type": "code",
      "source": [
        "import json\r\n",
        "print('service', service)\r\n",
        "input_payload = json.dumps({\r\n",
        "    'data': X_df[0:2].values.tolist()\r\n",
        "})\r\n",
        "\r\n",
        "output = service.run(input_payload)\r\n",
        "print('-' * 50)\r\n",
        "print('output', output)"
      ],
      "outputs": [
        {
          "output_type": "stream",
          "name": "stdout",
          "text": "service AciWebservice(workspace=Workspace.create(name='azml0925', subscription_id='2534c950-f9a2-46bb-b43f-fb87ead1a2f9', resource_group='eastasia'), name=my-diabetes-model, image_id=None, image_digest=None, compute_type=ACI, state=Healthy, scoring_uri=http://3beaab7a-5a12-4130-be5e-bbd72f8c25e5.eastasia.azurecontainer.io/score, tags={}, properties={'hasInferenceSchema': 'True', 'hasHttps': 'False', 'authEnabled': 'False'}, created_by={'userObjectId': '9d9b954b-6a6b-47ee-918b-55e143e01a3d', 'userPuId': '10037FFE8B9E5256', 'userIdp': None, 'userAltSecId': None, 'userIss': 'https://sts.windows.net/3e04753a-ae5b-42d4-a86d-d6f05460f9e4/', 'userTenantId': '3e04753a-ae5b-42d4-a86d-d6f05460f9e4', 'userName': 'Lewis Yang', 'upn': 'lewis_yang@trendmicro.com'})\n--------------------------------------------------\noutput [[205.59094435613133], [68.84146418576978]]\n"
        }
      ],
      "execution_count": 13,
      "metadata": {
        "jupyter": {
          "source_hidden": false,
          "outputs_hidden": false
        },
        "nteract": {
          "transient": {
            "deleting": false
          }
        },
        "gather": {
          "logged": 1664078776467
        }
      }
    }
  ],
  "metadata": {
    "kernelspec": {
      "name": "python38-azureml",
      "language": "python",
      "display_name": "Python 3.8 - AzureML"
    },
    "language_info": {
      "name": "python",
      "version": "3.8.5",
      "mimetype": "text/x-python",
      "codemirror_mode": {
        "name": "ipython",
        "version": 3
      },
      "pygments_lexer": "ipython3",
      "nbconvert_exporter": "python",
      "file_extension": ".py"
    },
    "kernel_info": {
      "name": "python38-azureml"
    },
    "microsoft": {
      "host": {
        "AzureML": {
          "notebookHasBeenCompleted": true
        }
      }
    },
    "nteract": {
      "version": "nteract-front-end@1.0.0"
    }
  },
  "nbformat": 4,
  "nbformat_minor": 2
}